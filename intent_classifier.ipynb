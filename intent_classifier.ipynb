{
 "cells": [
  {
   "cell_type": "markdown",
   "id": "eb2da92e-2402-47bb-bfaf-6a1ec377c78f",
   "metadata": {},
   "source": [
    "# INTENT CLASSIFIER "
   ]
  },
  {
   "cell_type": "code",
   "execution_count": 407,
   "id": "481ef40a-d939-42de-8eee-38aa68f5210c",
   "metadata": {},
   "outputs": [],
   "source": [
    "import pandas as pd"
   ]
  },
  {
   "cell_type": "code",
   "execution_count": 233,
   "id": "9e707652-6e7b-4cd3-b83a-d2adf1c80b9a",
   "metadata": {},
   "outputs": [
    {
     "data": {
      "text/html": [
       "<div>\n",
       "<style scoped>\n",
       "    .dataframe tbody tr th:only-of-type {\n",
       "        vertical-align: middle;\n",
       "    }\n",
       "\n",
       "    .dataframe tbody tr th {\n",
       "        vertical-align: top;\n",
       "    }\n",
       "\n",
       "    .dataframe thead th {\n",
       "        text-align: right;\n",
       "    }\n",
       "</style>\n",
       "<table border=\"1\" class=\"dataframe\">\n",
       "  <thead>\n",
       "    <tr style=\"text-align: right;\">\n",
       "      <th></th>\n",
       "      <th>Input Query</th>\n",
       "      <th>Intent</th>\n",
       "    </tr>\n",
       "  </thead>\n",
       "  <tbody>\n",
       "    <tr>\n",
       "      <th>0</th>\n",
       "      <td>Send an email to &lt;br/&gt;John regarding the proje...</td>\n",
       "      <td>email_send</td>\n",
       "    </tr>\n",
       "    <tr>\n",
       "      <th>1</th>\n",
       "      <td>Email Alice to remind her about the &lt;br/&gt;docum...</td>\n",
       "      <td>email_send</td>\n",
       "    </tr>\n",
       "    <tr>\n",
       "      <th>2</th>\n",
       "      <td>Send an email to (\"Bob asking for the report o...</td>\n",
       "      <td>email_send</td>\n",
       "    </tr>\n",
       "    <tr>\n",
       "      <th>3</th>\n",
       "      <td>How many days of paid sick leave do we get eac...</td>\n",
       "      <td>knowledge_query</td>\n",
       "    </tr>\n",
       "    <tr>\n",
       "      <th>4</th>\n",
       "      <td>How do I submit a work order for IT support?</td>\n",
       "      <td>knowledge_query</td>\n",
       "    </tr>\n",
       "  </tbody>\n",
       "</table>\n",
       "</div>"
      ],
      "text/plain": [
       "                                         Input Query           Intent\n",
       "0  Send an email to <br/>John regarding the proje...       email_send\n",
       "1  Email Alice to remind her about the <br/>docum...       email_send\n",
       "2  Send an email to (\"Bob asking for the report o...       email_send\n",
       "3  How many days of paid sick leave do we get eac...  knowledge_query\n",
       "4       How do I submit a work order for IT support?  knowledge_query"
      ]
     },
     "execution_count": 233,
     "metadata": {},
     "output_type": "execute_result"
    }
   ],
   "source": [
    "df = pd.read_csv(\"user_intent_classifier.csv\", encoding='windows-1252')\n",
    "df.head(5)"
   ]
  },
  {
   "cell_type": "code",
   "execution_count": 234,
   "id": "9915365d-693f-4581-a9d1-7a24d04c10b4",
   "metadata": {},
   "outputs": [
    {
     "name": "stdout",
     "output_type": "stream",
     "text": [
      "(1315, 2)\n"
     ]
    }
   ],
   "source": [
    "print(df.shape)"
   ]
  },
  {
   "cell_type": "code",
   "execution_count": 235,
   "id": "ee312380-f2b7-4038-915e-9c86f17c3218",
   "metadata": {},
   "outputs": [
    {
     "data": {
      "text/plain": [
       "16"
      ]
     },
     "execution_count": 235,
     "metadata": {},
     "output_type": "execute_result"
    }
   ],
   "source": [
    "df.duplicated().sum() "
   ]
  },
  {
   "cell_type": "code",
   "execution_count": 236,
   "id": "1e0b19b9-a402-410b-85ab-27e9e024a943",
   "metadata": {},
   "outputs": [
    {
     "data": {
      "text/plain": [
       "0"
      ]
     },
     "execution_count": 236,
     "metadata": {},
     "output_type": "execute_result"
    }
   ],
   "source": [
    "df.drop_duplicates(inplace=True)\n",
    "df.duplicated().sum()"
   ]
  },
  {
   "cell_type": "code",
   "execution_count": 237,
   "id": "85a2973b-7b62-4d2e-94bf-7de45d8c9ca9",
   "metadata": {},
   "outputs": [
    {
     "data": {
      "text/plain": [
       "Intent\n",
       "knowledge_query      262\n",
       "calender_schedule    261\n",
       "email_send           260\n",
       "general_chat         260\n",
       "web_search           256\n",
       "Name: count, dtype: int64"
      ]
     },
     "execution_count": 237,
     "metadata": {},
     "output_type": "execute_result"
    }
   ],
   "source": [
    "df['Intent'].value_counts() "
   ]
  },
  {
   "cell_type": "markdown",
   "id": "1f3a8f7e-e451-4925-a200-46b3304527a2",
   "metadata": {},
   "source": [
    "## Data Cleaning and Preprocessing Pipeline"
   ]
  },
  {
   "cell_type": "markdown",
   "id": "620c68d1-d813-422a-92c9-5f406734fe12",
   "metadata": {},
   "source": [
    "### Removing Unwanted Characters"
   ]
  },
  {
   "cell_type": "code",
   "execution_count": 238,
   "id": "8229a1d8-5314-47cf-8962-ca69f7fdd391",
   "metadata": {},
   "outputs": [],
   "source": [
    "# Clean unwanted characters\n",
    "df['Input Query'] = df['Input Query'].str.replace('Â', '')  # Remove unwanted characters (e.g., Â)    "
   ]
  },
  {
   "cell_type": "markdown",
   "id": "41c8535a-a195-4c33-9b83-d18fcc6b83dc",
   "metadata": {},
   "source": [
    "###  Removing HTML Tags Using Regex"
   ]
  },
  {
   "cell_type": "code",
   "execution_count": 239,
   "id": "56d9b73a-2d83-4ac5-9e79-aaf0e7d04e78",
   "metadata": {},
   "outputs": [],
   "source": [
    "### Removing Tags\n",
    "### Initial Text preprocesiing\n",
    "### The re.sub() function replaces these matched HTML tags with an empty string, effectively removing them from the text.\n",
    "\n",
    "import re\n",
    "def remove_tags(raw_text):\n",
    "    cleaned_text = re.sub(re.compile('<.*?>'), '', raw_text)\n",
    "    return cleaned_text\n"
   ]
  },
  {
   "cell_type": "code",
   "execution_count": 240,
   "id": "5eac4d09-0f36-40f9-9fa7-fb8ec6c597a8",
   "metadata": {},
   "outputs": [],
   "source": [
    "df['Input Query'] = df['Input Query'].apply(remove_tags)"
   ]
  },
  {
   "cell_type": "markdown",
   "id": "d1a62c3a-8448-49a7-83aa-524ea7507b59",
   "metadata": {},
   "source": [
    "### Converting Text to Lowercase"
   ]
  },
  {
   "cell_type": "code",
   "execution_count": 241,
   "id": "e7720adf-6c49-41e0-b0f2-ac3fc0f7828f",
   "metadata": {},
   "outputs": [
    {
     "data": {
      "text/html": [
       "<div>\n",
       "<style scoped>\n",
       "    .dataframe tbody tr th:only-of-type {\n",
       "        vertical-align: middle;\n",
       "    }\n",
       "\n",
       "    .dataframe tbody tr th {\n",
       "        vertical-align: top;\n",
       "    }\n",
       "\n",
       "    .dataframe thead th {\n",
       "        text-align: right;\n",
       "    }\n",
       "</style>\n",
       "<table border=\"1\" class=\"dataframe\">\n",
       "  <thead>\n",
       "    <tr style=\"text-align: right;\">\n",
       "      <th></th>\n",
       "      <th>Input Query</th>\n",
       "      <th>Intent</th>\n",
       "    </tr>\n",
       "  </thead>\n",
       "  <tbody>\n",
       "    <tr>\n",
       "      <th>0</th>\n",
       "      <td>send an email to john regarding the project up...</td>\n",
       "      <td>email_send</td>\n",
       "    </tr>\n",
       "    <tr>\n",
       "      <th>1</th>\n",
       "      <td>email alice to remind her about the document d...</td>\n",
       "      <td>email_send</td>\n",
       "    </tr>\n",
       "    <tr>\n",
       "      <th>2</th>\n",
       "      <td>send an email to (\"bob asking for the report o...</td>\n",
       "      <td>email_send</td>\n",
       "    </tr>\n",
       "  </tbody>\n",
       "</table>\n",
       "</div>"
      ],
      "text/plain": [
       "                                         Input Query      Intent\n",
       "0  send an email to john regarding the project up...  email_send\n",
       "1  email alice to remind her about the document d...  email_send\n",
       "2  send an email to (\"bob asking for the report o...  email_send"
      ]
     },
     "execution_count": 241,
     "metadata": {},
     "output_type": "execute_result"
    }
   ],
   "source": [
    "# It ensures consistent text formatting by converting all reviews to lowercase, helping the model treat words like \"Good\" and \"good\" as the same.\n",
    "df['Input Query'] = df['Input Query'].apply(lambda x:x.lower())\n",
    "df.head(3)"
   ]
  },
  {
   "cell_type": "markdown",
   "id": "ddfcc1a8-a6c7-4a6a-9233-1e7d325fb8a3",
   "metadata": {},
   "source": [
    "### Removing Stopwords Using NLTK"
   ]
  },
  {
   "cell_type": "code",
   "execution_count": 242,
   "id": "a48f8e89-6957-4214-9ed7-c6a990ebce89",
   "metadata": {},
   "outputs": [
    {
     "name": "stderr",
     "output_type": "stream",
     "text": [
      "[nltk_data] Downloading package stopwords to\n",
      "[nltk_data]     C:\\Users\\ALI\\AppData\\Roaming\\nltk_data...\n",
      "[nltk_data]   Package stopwords is already up-to-date!\n"
     ]
    }
   ],
   "source": [
    "import nltk\n",
    "from nltk.corpus import stopwords\n",
    "\n",
    "# Download stopwords (you need to run this once)\n",
    "nltk.download('stopwords')\n",
    "\n",
    "# Load English stopwords list\n",
    "sw_list = stopwords.words('english')\n",
    "\n",
    "# Remove stopwords from 'review' column\n",
    "df['Input Query'] = df['Input Query'].apply(lambda x: [item for item in x.split() if item.lower() not in sw_list]).apply(lambda x: \" \".join(x))\n"
   ]
  },
  {
   "cell_type": "markdown",
   "id": "0a81df1c-64d7-4bd1-b479-1351787865f0",
   "metadata": {},
   "source": [
    "### Extracting Feature and Target Columns"
   ]
  },
  {
   "cell_type": "code",
   "execution_count": 243,
   "id": "30a94827-34cf-4b77-8655-32d4a395f369",
   "metadata": {},
   "outputs": [],
   "source": [
    "X = df.iloc[:,0:1]  # Input \n",
    "y = df['Intent']   #  Output"
   ]
  },
  {
   "cell_type": "markdown",
   "id": "5a0d9c65-d1a7-4d93-816a-5954ab9de3cf",
   "metadata": {},
   "source": [
    "### Since Target column is of Categorical type, \n",
    "### so we need to encode it before giving it to the model"
   ]
  },
  {
   "cell_type": "code",
   "execution_count": 244,
   "id": "017d6a01-e063-40f5-8571-2c0697c3964e",
   "metadata": {},
   "outputs": [
    {
     "data": {
      "text/plain": [
       "0              email_send\n",
       "1              email_send\n",
       "2              email_send\n",
       "3         knowledge_query\n",
       "4         knowledge_query\n",
       "              ...        \n",
       "1310           web_search\n",
       "1311    calender_schedule\n",
       "1312           web_search\n",
       "1313    calender_schedule\n",
       "1314      knowledge_query\n",
       "Name: Intent, Length: 1299, dtype: object"
      ]
     },
     "execution_count": 244,
     "metadata": {},
     "output_type": "execute_result"
    }
   ],
   "source": [
    "y"
   ]
  },
  {
   "cell_type": "markdown",
   "id": "60e41ef7-8619-4eb0-ba9f-2ed294f4a2e3",
   "metadata": {},
   "source": [
    "### Label Encoding of Target Classes "
   ]
  },
  {
   "cell_type": "code",
   "execution_count": 245,
   "id": "90b8e03a-9188-4038-a766-f25030f26c9b",
   "metadata": {},
   "outputs": [
    {
     "name": "stdout",
     "output_type": "stream",
     "text": [
      "calender_schedule --> 0\n",
      "email_send --> 1\n",
      "general_chat --> 2\n",
      "knowledge_query --> 3\n",
      "web_search --> 4\n"
     ]
    }
   ],
   "source": [
    "from sklearn.preprocessing import LabelEncoder\n",
    "\n",
    "encoder = LabelEncoder()\n",
    "\n",
    "y = encoder.fit_transform(y)\n",
    "\n",
    "# Display class-to-number mapping\n",
    "for index, label in enumerate(encoder.classes_):\n",
    "    print(f\"{label} --> {index}\")"
   ]
  },
  {
   "cell_type": "code",
   "execution_count": 246,
   "id": "6629d987-cb77-4d69-b145-1f1610a5f41a",
   "metadata": {},
   "outputs": [
    {
     "data": {
      "text/plain": [
       "array([1, 1, 1, ..., 4, 0, 3])"
      ]
     },
     "execution_count": 246,
     "metadata": {},
     "output_type": "execute_result"
    }
   ],
   "source": [
    "y"
   ]
  },
  {
   "cell_type": "markdown",
   "id": "21571daa-3d25-4273-94c4-74182e6759c8",
   "metadata": {},
   "source": [
    "### Splitting Dataset as follows:\n",
    "###   Initial Split: 80% Train, 20% Temp\n",
    "###   Secondary Split: 10% Validation, 10% Test from Temp"
   ]
  },
  {
   "cell_type": "code",
   "execution_count": 162,
   "id": "93a1d966-ba32-4464-856f-bdec4fd6e50d",
   "metadata": {},
   "outputs": [],
   "source": [
    "# X_temp, y_temp = 20% of data\n",
    "# X_val, y_val: 10% of the original data (for validation)\n",
    "# X_test, y_test: 10% of the original data (for testing)\n",
    "\n",
    "from sklearn.model_selection import train_test_split\n",
    "\n",
    "# First split: 80% train, 20% temp\n",
    "X_train, X_temp, y_train, y_temp = train_test_split(X, y, test_size=0.2, random_state=1, stratify=y)\n",
    "\n",
    "# Second split: Split 20% temp equally into 10% val and 10% test\n",
    "X_val, X_test, y_val, y_test = train_test_split(X_temp, y_temp, test_size=0.5, random_state=1, stratify=y_temp)\n"
   ]
  },
  {
   "cell_type": "markdown",
   "id": "2ced26a1-7dc8-42f5-a59e-14adc04cc2be",
   "metadata": {},
   "source": [
    "### Feature Vectorization\n",
    "###    1. TF-IDF Vectorization"
   ]
  },
  {
   "cell_type": "code",
   "execution_count": 164,
   "id": "141cc7d3-b733-4f1f-8644-2e86cf524144",
   "metadata": {},
   "outputs": [],
   "source": [
    "from sklearn.feature_extraction.text import TfidfVectorizer\n",
    "tfidf = TfidfVectorizer()\n",
    "\n",
    "X_train_tfidf = tfidf.fit_transform(X_train['Input Query']).toarray()\n",
    "X_test_tfidf = tfidf.transform(X_test['Input Query'])"
   ]
  },
  {
   "cell_type": "markdown",
   "id": "a3839878-56b1-44d5-8701-90ba154219d2",
   "metadata": {},
   "source": [
    "### RANDOM FOREST CLASSIFIER"
   ]
  },
  {
   "cell_type": "markdown",
   "id": "5b007c4e-b617-4330-85f5-0ca177fe228c",
   "metadata": {},
   "source": [
    "### Hyper parameter Tuning using GridSearchCV"
   ]
  },
  {
   "cell_type": "code",
   "execution_count": 166,
   "id": "c5629cc6-74f6-4ffe-a1d3-49cc6c49543a",
   "metadata": {},
   "outputs": [
    {
     "name": "stdout",
     "output_type": "stream",
     "text": [
      "Fitting 5 folds for each of 189 candidates, totalling 945 fits\n",
      "RandomForest training time: 294.40368247032166 seconds\n"
     ]
    }
   ],
   "source": [
    "import time\n",
    "\n",
    "# Start the timer before training\n",
    "start_time = time.time()\n",
    "\n",
    "rf1 = RandomForestClassifier()\n",
    "param_grid = {\n",
    "    \"n_estimators\": [20, 40, 50, 70, 100,120, 150],\n",
    "    \"max_features\": [0.2, 0.6, 1.0],\n",
    "    'max_depth': [2, 8, None],\n",
    "    'max_samples': [0.5, 0.75, 1.0]\n",
    "}\n",
    "grid = GridSearchCV(rf1, param_grid=param_grid, n_jobs=-1, verbose=2)\n",
    "grid.fit(X_train_tfidf, y_train)  # You should replace X_train_tfidf, y_train with your data\n",
    "\n",
    "# Calculate the time taken to train the model\n",
    "training_time_rf = time.time() - start_time\n",
    "\n",
    "# Print the time taken\n",
    "print(f\"RandomForest training time: {training_time_rf} seconds\")\n"
   ]
  },
  {
   "cell_type": "markdown",
   "id": "97cd5274-6e28-4fee-9f71-e0e69e731611",
   "metadata": {},
   "source": [
    "### Train and Test Acuracy Scores - Random Forest"
   ]
  },
  {
   "cell_type": "code",
   "execution_count": 168,
   "id": "07dbbc1f-ce43-418c-a052-b4d68442cbdd",
   "metadata": {},
   "outputs": [
    {
     "name": "stdout",
     "output_type": "stream",
     "text": [
      "Training Accuracy: 99.69%\n",
      "Testing Accuracy: 95.90%\n"
     ]
    }
   ],
   "source": [
    "y_train_pred = grid.predict(X_train_tfidf)\n",
    "train_accuracy = accuracy_score(y_train, y_train_pred)\n",
    "print(f\"Training Accuracy: {train_accuracy * 100:.2f}%\")\n",
    "\n",
    "# Testing predictions and accuracy\n",
    "y_test_pred = grid.predict(X_test_tfidf)\n",
    "test_accuracy = accuracy_score(y_test, y_test_pred)\n",
    "print(f\"Testing Accuracy: {test_accuracy * 100:.2f}%\")"
   ]
  },
  {
   "cell_type": "code",
   "execution_count": null,
   "id": "5e8135c6-130b-4c12-82de-49e7044fa771",
   "metadata": {},
   "outputs": [],
   "source": []
  },
  {
   "cell_type": "code",
   "execution_count": null,
   "id": "3639bcba-2fb0-4233-afb4-6e2b0dd0e3c2",
   "metadata": {},
   "outputs": [],
   "source": []
  },
  {
   "cell_type": "markdown",
   "id": "821ced0d-ebc8-4bf4-a77d-95dd8415e37d",
   "metadata": {},
   "source": [
    "### 2. BAG OF WORDS"
   ]
  },
  {
   "cell_type": "code",
   "execution_count": 291,
   "id": "1d1bba6d-dc98-48d0-a323-eb01e6b9d398",
   "metadata": {},
   "outputs": [],
   "source": [
    "# Applying BoW\n",
    "from sklearn.feature_extraction.text import CountVectorizer\n",
    "cv = CountVectorizer()\n",
    "\n",
    "X_train_bow = cv.fit_transform(X_train['Input Query']).toarray()\n",
    "X_test_bow = cv.transform(X_test['Input Query']).toarray()"
   ]
  },
  {
   "cell_type": "markdown",
   "id": "12e75443-37f9-4c8a-89b8-c6ff233d9d77",
   "metadata": {},
   "source": [
    "### Random Forest"
   ]
  },
  {
   "cell_type": "markdown",
   "id": "dce19d18-0ed1-48d1-b2bf-2fb5acca267b",
   "metadata": {},
   "source": [
    "### Hyper parameter Tuning using GridSearchCV"
   ]
  },
  {
   "cell_type": "code",
   "execution_count": 293,
   "id": "ef7dab7e-6953-4d19-af1b-2c4badea8f4c",
   "metadata": {},
   "outputs": [
    {
     "name": "stdout",
     "output_type": "stream",
     "text": [
      "Fitting 5 folds for each of 189 candidates, totalling 945 fits\n",
      "RandomForest training time: 294.40368247032166 seconds\n"
     ]
    }
   ],
   "source": [
    "from sklearn.ensemble import RandomForestClassifier\n",
    "from sklearn.metrics import accuracy_score,confusion_matrix\n",
    "from sklearn.model_selection import GridSearchCV\n",
    "start_time = time.time()\n",
    "\n",
    "rf1 = RandomForestClassifier()\n",
    "param_grid = {\n",
    "    \"n_estimators\" : [20, 40 , 50, 70, 100,120,150],\n",
    "    \"max_features\" : [0.2, 0.6 , 1.0] ,\n",
    "    'max_depth': [2,8,None] , \n",
    "    'max_samples' : [0.5,0.75,1.0]\n",
    "}\n",
    "grid_bow = GridSearchCV ( rf1 , param_grid = param_grid , n_jobs = -1  , verbose = 2 , cv=5 )\n",
    "grid_bow.fit(X_train_bow , y_train )\n",
    " \n",
    "# Print the time taken\n",
    "print(f\"RandomForest training time: {training_time_rf} seconds\")"
   ]
  },
  {
   "cell_type": "code",
   "execution_count": null,
   "id": "4cf6a6a3-caed-4691-bbcf-171f40f5998a",
   "metadata": {},
   "outputs": [],
   "source": []
  },
  {
   "cell_type": "code",
   "execution_count": 295,
   "id": "87427289-834c-4b5f-8978-7b9c157b2c69",
   "metadata": {},
   "outputs": [
    {
     "name": "stdout",
     "output_type": "stream",
     "text": [
      "Best cross-validation score: 95.16785619878402\n",
      "Training Accuracy: 99.69%\n",
      "Testing Accuracy: 95.90%\n"
     ]
    }
   ],
   "source": [
    "y_train_pred = grid_bow.predict(X_train_bow)\n",
    "train_accuracy = accuracy_score(y_train, y_train_pred)\n",
    "\n",
    "best_score = grid_bow.best_score_\n",
    "print(f\"Best cross-validation score: {best_score*100}\")\n",
    "\n",
    "print(f\"Training Accuracy: {train_accuracy * 100:.2f}%\")\n",
    "\n",
    "# Testing predictions and accuracy\n",
    "y_test_pred = grid_bow.predict(X_test_bow)\n",
    "test_accuracy = accuracy_score(y_test, y_test_pred)\n",
    "print(f\"Testing Accuracy: {test_accuracy * 100:.2f}%\")"
   ]
  },
  {
   "cell_type": "markdown",
   "id": "0b2c5df7-aa10-4bde-a35a-e4a8180c6950",
   "metadata": {},
   "source": [
    "### Since the Accuracy scores using Bag of Words and TF-IDF are nearly same, hence using Bag of Words for Vectorization of other models. "
   ]
  },
  {
   "cell_type": "code",
   "execution_count": null,
   "id": "c188e937-fff3-4b62-a889-4b44d6b47261",
   "metadata": {},
   "outputs": [],
   "source": []
  },
  {
   "cell_type": "markdown",
   "id": "4c609ab8-e858-458d-9189-b89add053390",
   "metadata": {},
   "source": [
    "### Inference on User Input"
   ]
  },
  {
   "cell_type": "code",
   "execution_count": 335,
   "id": "0e19f3e4-7e10-4481-8f15-4c0ac6284748",
   "metadata": {},
   "outputs": [
    {
     "name": "stdin",
     "output_type": "stream",
     "text": [
      "Enter a sentence:  Can you send the proposal to the client by end of the day\n"
     ]
    },
    {
     "name": "stdout",
     "output_type": "stream",
     "text": [
      "Predicted Intent: web_search\n"
     ]
    }
   ],
   "source": [
    "# Take input from user\n",
    "user_input = input(\"Enter a sentence: \")\n",
    "\n",
    "# Preprocess the input (if you did lowercase/stopword removal during training, apply here too)\n",
    "user_input = user_input.lower()\n",
    "\n",
    "# Vectorize the input using the same CountVectorizer\n",
    "user_input_vector = cv.transform([user_input]).toarray()\n",
    "\n",
    "# Predict the class number\n",
    "predicted_class = grid_bow.predict(user_input_vector)\n",
    "\n",
    "# Decode the class number to original label (if you used LabelEncoder)\n",
    "predicted_intent = encoder.inverse_transform(predicted_class)\n",
    "\n",
    "# Show result\n",
    "print(f\"Predicted Intent: {predicted_intent[0]}\")\n"
   ]
  },
  {
   "cell_type": "markdown",
   "id": "fa86633d-512d-46d6-9dd4-0466d45aa154",
   "metadata": {},
   "source": [
    "### GUASSIAN NAIVE BAYES "
   ]
  },
  {
   "cell_type": "markdown",
   "id": "7ccd324e-1074-4739-ba9f-52552c0710cd",
   "metadata": {},
   "source": [
    "### Hyper parameter Tuning using GridSearchCV"
   ]
  },
  {
   "cell_type": "code",
   "execution_count": 305,
   "id": "874d9c01-878d-411f-9022-73e6ba02c808",
   "metadata": {},
   "outputs": [
    {
     "name": "stdout",
     "output_type": "stream",
     "text": [
      "Guassian NB training time: 15.055447816848755 seconds\n",
      "Best var_smoothing: 1e-05\n",
      "Best cross-validation score: 0.9012688342585251\n",
      "Train set accuracy: 96.81069958847736\n",
      "Test set accuracy: 89.34426229508196\n"
     ]
    }
   ],
   "source": [
    "from sklearn.naive_bayes import GaussianNB\n",
    "# Define the parameter grid for var_smoothing\n",
    "param_grid = {'var_smoothing': [1e-9, 1e-8, 1e-7, 1e-6, 1e-5]}\n",
    "\n",
    "gnb = GaussianNB()\n",
    "\n",
    "start_time = time.time() \n",
    "\n",
    "# Initialize GridSearchCV with cross-validation (e.g., 5-fold cross-validation)\n",
    "grid_search_nb_bow = GridSearchCV(estimator=gnb, param_grid=param_grid, cv=5, n_jobs=-1)\n",
    "\n",
    "# Fit GridSearchCV to the training data\n",
    "grid_search_nb_bow.fit(X_train_bow, y_train)\n",
    "training_time_nb_bow = time.time() - start_time\n",
    "print(f\"Guassian NB training time: {training_time_nb_bow} seconds\")\n",
    "\n",
    "\n",
    "# Get the best hyperparameters and score from GridSearchCV\n",
    "best_params = grid_search_nb_bow.best_params_\n",
    "best_score = grid_search_nb_bow.best_score_\n",
    "\n",
    "# Print the best parameters and the corresponding score\n",
    "print(f\"Best var_smoothing: {best_params['var_smoothing']}\")\n",
    "print(f\"Best cross-validation score: {best_score}\")\n",
    "\n",
    "# Predict on the train set using the best model from GridSearchCV\n",
    "y_train_pred = grid_search_nb_bow.predict(X_train_bow)\n",
    "\n",
    "# Calculate train accuracy\n",
    "train_accuracy = accuracy_score(y_train, y_train_pred) \n",
    "\n",
    "# Predict on the test set using the best model from GridSearchCV\n",
    "y_test_pred = grid_search_nb_bow.predict(X_test_bow)\n",
    "\n",
    "# Calculate test accuracy\n",
    "test_accuracy = accuracy_score(y_test, y_test_pred)\n",
    "\n",
    "# Print the train set accuracy and test set accuracy\n",
    "print(f\"Train set accuracy: {train_accuracy*100}\")\n",
    "print(f\"Test set accuracy: {test_accuracy*100}\")\n"
   ]
  },
  {
   "cell_type": "markdown",
   "id": "aee9cca2-788f-4002-b7e1-f4d86c1ec248",
   "metadata": {},
   "source": [
    "### LOGISTIC REGRESSION\n",
    "### Hyper parameter Tuning using GridSearchCV"
   ]
  },
  {
   "cell_type": "code",
   "execution_count": 307,
   "id": "c3c3087a-957a-4aee-a8ea-1a79041b004c",
   "metadata": {},
   "outputs": [
    {
     "name": "stderr",
     "output_type": "stream",
     "text": [
      "C:\\Users\\ALI\\anaconda3\\Lib\\site-packages\\sklearn\\linear_model\\_logistic.py:1288: FutureWarning: Using the 'liblinear' solver for multiclass classification is deprecated. An error will be raised in 1.8. Either use another solver which supports the multinomial loss or wrap the estimator in a OneVsRestClassifier to keep applying a one-versus-rest scheme.\n",
      "  warnings.warn(\n"
     ]
    },
    {
     "name": "stdout",
     "output_type": "stream",
     "text": [
      "LR  training time: 20.062429189682007 seconds\n",
      "Best Hyperparameters: {'C': 1, 'penalty': 'l2', 'solver': 'liblinear'}\n",
      "Best cross-validation score: 0.9578429817605075\n",
      "Train set accuracy: 96.91358024691358\n",
      "Test set accuracy: 95.90163934426229\n"
     ]
    }
   ],
   "source": [
    "from sklearn.model_selection import GridSearchCV\n",
    "from sklearn.linear_model import LogisticRegression\n",
    "from sklearn.metrics import accuracy_score\n",
    "import time\n",
    "\n",
    "start_time = time.time() \n",
    "\n",
    "# Define the parameter grid for Logistic Regression\n",
    "param_grid = {\n",
    "    'C': [0.01, 0.1, 1, 10, 100],  # Regularization strength\n",
    "    'penalty': ['l2'],             # Regularization type (L1 and L2)\n",
    "    'solver': ['liblinear', 'saga']  # Solvers supporting L1 regularization\n",
    "}\n",
    "\n",
    "# Initialize the Logistic Regression model\n",
    "log_reg = LogisticRegression()\n",
    "\n",
    "# Initialize GridSearchCV with cross-validation (e.g., 5-fold cross-validation)\n",
    "grid_search_lr_bow = GridSearchCV(estimator=log_reg, param_grid=param_grid, cv=5, n_jobs=-1)\n",
    "\n",
    "# Fit GridSearchCV to the training data\n",
    "grid_search_lr_bow.fit(X_train_bow, y_train)\n",
    "training_time_lr_bow = time.time() - start_time\n",
    "print(f\"LR  training time: {training_time_lr_bow} seconds\")\n",
    "\n",
    "\n",
    "# Get the best hyperparameters and score from GridSearchCV\n",
    "best_params = grid_search_lr_bow.best_params_\n",
    "best_score = grid_search_lr_bow.best_score_\n",
    "\n",
    "# Print the best parameters and the corresponding score\n",
    "print(f\"Best Hyperparameters: {best_params}\")\n",
    "print(f\"Best cross-validation score: {best_score}\")\n",
    "\n",
    "# Predict on the train set using the best model from GridSearchCV\n",
    "y_train_pred = grid_search_lr_bow.predict(X_train_bow)\n",
    "\n",
    "# Calculate train accuracy\n",
    "train_accuracy = accuracy_score(y_train, y_train_pred)\n",
    "\n",
    "# Predict on the test set using the best model from GridSearchCV\n",
    "y_test_pred = grid_search_lr_bow.predict(X_test_bow)\n",
    "\n",
    "# Calculate test accuracy\n",
    "test_accuracy = accuracy_score(y_test, y_test_pred)\n",
    "\n",
    "# Print the train set accuracy and test set accuracy\n",
    "print(f\"Train set accuracy: {train_accuracy*100}\")\n",
    "print(f\"Test set accuracy: {test_accuracy*100}\")\n",
    "\n",
    "\n"
   ]
  },
  {
   "cell_type": "markdown",
   "id": "701e87ff-d08e-4da0-a263-b2a20253c972",
   "metadata": {},
   "source": [
    "### SVM \n",
    "### Hyper parameter Tuning using GridSearchCV"
   ]
  },
  {
   "cell_type": "code",
   "execution_count": 309,
   "id": "9b8e6037-9007-4b39-b5dc-ee3090142bcc",
   "metadata": {},
   "outputs": [
    {
     "name": "stdout",
     "output_type": "stream",
     "text": [
      "Fitting 5 folds for each of 144 candidates, totalling 720 fits\n",
      "SVM  training time: 256.9452130794525 seconds\n",
      "Best Hyperparameters: {'C': 100, 'coef0': 0, 'degree': 3, 'gamma': 'auto', 'kernel': 'rbf'}\n",
      "Best cross-validation score: 0.9619666931007137\n",
      "SVM  training time: 256.9452130794525 seconds\n",
      "Train set accuracy: 0.970164609053498\n",
      "Test set accuracy: 0.9672131147540983\n"
     ]
    }
   ],
   "source": [
    "from sklearn.svm import SVC\n",
    "from sklearn.model_selection import GridSearchCV\n",
    "from sklearn.metrics import accuracy_score\n",
    "\n",
    "\n",
    "start_time = time.time() \n",
    "# Define the parameter grid for SVM\n",
    "param_grid = {\n",
    "    'C': [0.1, 1, 10, 100],  # Regularization parameter\n",
    "    'kernel': ['linear', 'rbf', 'poly'],  # Kernel type\n",
    "    'gamma': ['scale', 'auto'],  # Kernel coefficient (for 'rbf', 'poly', 'sigmoid')\n",
    "    'degree': [3, 5],  # Degree of the polynomial kernel (only for 'poly')\n",
    "    'coef0': [0, 0.5, 1]  # Independent term in kernel function (for 'poly', 'sigmoid')\n",
    "}\n",
    "\n",
    "# Initialize the SVM model\n",
    "svm_model = SVC()\n",
    "\n",
    "# Initialize GridSearchCV with cross-validation (e.g., 5-fold cross-validation)\n",
    "grid_search_svm_bow = GridSearchCV(estimator=svm_model, param_grid=param_grid, n_jobs=-1, cv=5, verbose=2)\n",
    "\n",
    "# Fit GridSearchCV to the training data\n",
    "grid_search_svm_bow.fit(X_train_bow, y_train)\n",
    "training_time_svm_bow = time.time() - start_time\n",
    "print(f\"SVM  training time: {training_time_svm_bow} seconds\")\n",
    "\n",
    "# Get the best hyperparameters and score from GridSearchCV\n",
    "best_params = grid_search_svm_bow.best_params_\n",
    "best_score = grid_search_svm_bow.best_score_\n",
    "\n",
    "# Print the best parameters and the corresponding score\n",
    "print(f\"Best Hyperparameters: {best_params}\")\n",
    "print(f\"Best cross-validation score: {best_score}\")\n",
    "\n",
    "# Predict on the train set using the best model from GridSearchCV\n",
    "y_train_pred = grid_search_svm_bow.predict(X_train_bow)\n",
    "print(f\"SVM  training time: {training_time_svm_bow} seconds\")\n",
    "\n",
    "# Calculate train accuracy\n",
    "train_accuracy = accuracy_score(y_train, y_train_pred)\n",
    "\n",
    "# Predict on the test set using the best model from GridSearchCV\n",
    "y_test_pred = grid_search_svm_bow.predict(X_test_bow)\n",
    "\n",
    "# Calculate test accuracy\n",
    "test_accuracy = accuracy_score(y_test, y_test_pred)\n",
    "\n",
    "# Print the train set accuracy and test set accuracy\n",
    "print(f\"Train set accuracy: {train_accuracy}\")\n",
    "print(f\"Test set accuracy: {test_accuracy}\")\n"
   ]
  },
  {
   "cell_type": "code",
   "execution_count": null,
   "id": "339063b8-ffc1-4bcf-b0a0-7ba33bae02bd",
   "metadata": {},
   "outputs": [],
   "source": [
    " "
   ]
  },
  {
   "cell_type": "markdown",
   "id": "ffb469d5-8760-4ae3-a68b-e2f01ea1a2bc",
   "metadata": {},
   "source": [
    "### Accuracy Reports of all 4 Algorithms"
   ]
  },
  {
   "cell_type": "code",
   "execution_count": 337,
   "id": "baf3e02e-df08-46f2-b242-98832a8f2a21",
   "metadata": {},
   "outputs": [
    {
     "name": "stdout",
     "output_type": "stream",
     "text": [
      "Random Forest - Classification Report (Test Data):\n",
      "              precision    recall  f1-score   support\n",
      "\n",
      "           0       1.00      1.00      1.00        23\n",
      "           1       0.92      1.00      0.96        24\n",
      "           2       1.00      0.96      0.98        26\n",
      "           3       1.00      0.87      0.93        23\n",
      "           4       0.89      0.96      0.93        26\n",
      "\n",
      "    accuracy                           0.96       122\n",
      "   macro avg       0.96      0.96      0.96       122\n",
      "weighted avg       0.96      0.96      0.96       122\n",
      "\n",
      "Gaussian Naive Bayes - Classification Report (Test Data):\n",
      "              precision    recall  f1-score   support\n",
      "\n",
      "           0       0.74      1.00      0.85        23\n",
      "           1       1.00      0.88      0.93        24\n",
      "           2       0.96      0.88      0.92        26\n",
      "           3       0.88      0.91      0.89        23\n",
      "           4       0.95      0.81      0.88        26\n",
      "\n",
      "    accuracy                           0.89       122\n",
      "   macro avg       0.91      0.90      0.89       122\n",
      "weighted avg       0.91      0.89      0.90       122\n",
      "\n",
      "Logistic Regression - Classification Report (Test Data):\n",
      "              precision    recall  f1-score   support\n",
      "\n",
      "           0       1.00      1.00      1.00        23\n",
      "           1       0.92      1.00      0.96        24\n",
      "           2       1.00      0.92      0.96        26\n",
      "           3       1.00      0.91      0.95        23\n",
      "           4       0.89      0.96      0.93        26\n",
      "\n",
      "    accuracy                           0.96       122\n",
      "   macro avg       0.96      0.96      0.96       122\n",
      "weighted avg       0.96      0.96      0.96       122\n",
      "\n",
      "SVM - Classification Report (Test Data):\n",
      "              precision    recall  f1-score   support\n",
      "\n",
      "           0       1.00      1.00      1.00        23\n",
      "           1       0.92      1.00      0.96        24\n",
      "           2       1.00      0.96      0.98        26\n",
      "           3       1.00      0.91      0.95        23\n",
      "           4       0.93      0.96      0.94        26\n",
      "\n",
      "    accuracy                           0.97       122\n",
      "   macro avg       0.97      0.97      0.97       122\n",
      "weighted avg       0.97      0.97      0.97       122\n",
      "\n"
     ]
    }
   ],
   "source": [
    "from sklearn.metrics import classification_report\n",
    "\n",
    "# Random Forest Accuracy Report\n",
    "y_train_pred_rf = grid_bow.predict(X_train_bow)\n",
    "y_test_pred_rf = grid_bow.predict(X_test_bow)\n",
    "print(\"Random Forest - Classification Report (Test Data):\")\n",
    "print(classification_report(y_test, y_test_pred_rf))\n",
    "\n",
    "# Gaussian Naive Bayes Accuracy Report\n",
    "y_train_pred_nb = grid_search_nb_bow.predict(X_train_bow)\n",
    "y_test_pred_nb = grid_search_nb_bow.predict(X_test_bow)\n",
    "print(\"Gaussian Naive Bayes - Classification Report (Test Data):\")\n",
    "print(classification_report(y_test, y_test_pred_nb))\n",
    "\n",
    "# Logistic Regression Accuracy Report\n",
    "y_train_pred_lr = grid_search_lr_bow.predict(X_train_bow)\n",
    "y_test_pred_lr = grid_search_lr_bow.predict(X_test_bow)\n",
    "print(\"Logistic Regression - Classification Report (Test Data):\")\n",
    "print(classification_report(y_test, y_test_pred_lr))\n",
    "\n",
    "# SVM Accuracy Report\n",
    "y_train_pred_svm = grid_search_svm_bow.predict(X_train_bow)\n",
    "y_test_pred_svm = grid_search_svm_bow.predict(X_test_bow)\n",
    "print(\"SVM - Classification Report (Test Data):\")\n",
    "print(classification_report(y_test, y_test_pred_svm))\n"
   ]
  },
  {
   "cell_type": "markdown",
   "id": "a125e8c3-8927-4cfb-8a43-25f0cebc33a3",
   "metadata": {},
   "source": [
    "### Confusion Matrices Visualizations"
   ]
  },
  {
   "cell_type": "code",
   "execution_count": 403,
   "id": "3f187d8c-8e7c-47e4-9e5e-3f297459c311",
   "metadata": {},
   "outputs": [
    {
     "data": {
      "image/png": "[encoded data removed]",
      "text/plain": [
       "<Figure size 1600x1200 with 8 Axes>"
      ]
     },
     "metadata": {},
     "output_type": "display_data"
    }
   ],
   "source": [
    "import matplotlib.pyplot as plt\n",
    "from sklearn.metrics import confusion_matrix, ConfusionMatrixDisplay\n",
    "\n",
    "# List of model names and their corresponding predictions\n",
    "models = [\n",
    "    ('Random Forest', y_test_pred_rf),\n",
    "    ('Naive Bayes', y_test_pred_nb),\n",
    "    ('Logistic Regression', y_test_pred_lr),\n",
    "    ('SVM', y_test_pred_svm)\n",
    "]\n",
    "\n",
    "# Plot confusion matrices\n",
    "plt.figure(figsize=(16, 12))\n",
    "\n",
    "for i, (name, y_pred) in enumerate(models, 1):\n",
    "    plt.subplot(2, 2, i)\n",
    "    cm = confusion_matrix(y_test, y_pred)\n",
    "    disp = ConfusionMatrixDisplay(confusion_matrix=cm)\n",
    "    disp.plot(ax=plt.gca(), cmap='Blues', values_format='d')\n",
    "    plt.title(f'{name} - Confusion Matrix')\n",
    "    plt.xlabel('Predicted Label')\n",
    "    plt.ylabel('True Label')\n",
    "\n",
    "plt.tight_layout()\n",
    "plt.show()\n"
   ]
  },
  {
   "cell_type": "markdown",
   "id": "16df874e-e917-49de-94aa-f93be02cfb52",
   "metadata": {},
   "source": [
    "### Plots for Accuracy and Training Time Comparison "
   ]
  },
  {
   "cell_type": "code",
   "execution_count": 413,
   "id": "82cc4c3c-0e36-4a11-9cf9-e03438e30097",
   "metadata": {},
   "outputs": [
    {
     "data": {
      "image/png": "[encoded data removed]",
      "text/plain": [
       "<Figure size 800x600 with 1 Axes>"
      ]
     },
     "metadata": {},
     "output_type": "display_data"
    },
    {
     "data": {
      "image/png": "[encoded data removed]",
      "text/plain": [
       "<Figure size 1000x600 with 1 Axes>"
      ]
     },
     "metadata": {},
     "output_type": "display_data"
    }
   ],
   "source": [
    "import matplotlib.pyplot as plt\n",
    "\n",
    "# Replace these with your actual accuracy values if needed\n",
    "rf_accuracy = accuracy_score(y_test, grid_bow.predict(X_test_bow))\n",
    "nb_accuracy = accuracy_score(y_test, grid_search_nb_bow.predict(X_test_bow))\n",
    "lr_accuracy = accuracy_score(y_test, grid_search_lr_bow.predict(X_test_bow))\n",
    "svm_accuracy = accuracy_score(y_test, grid_search_svm_bow.predict(X_test_bow))\n",
    "\n",
    "# Model names and accuracies\n",
    "models = ['Random Forest', 'Naive Bayes', 'Logistic Regression', 'SVM']\n",
    "accuracies = [rf_accuracy, nb_accuracy, lr_accuracy, svm_accuracy]\n",
    "\n",
    "# Plot\n",
    "plt.figure(figsize=(8, 6))\n",
    "plt.bar(models, accuracies)\n",
    "plt.ylim(0.8, 1.0)\n",
    "plt.ylabel('Test Accuracy')\n",
    "plt.title('Model Comparison on Test Accuracy')\n",
    "plt.grid(axis='y')\n",
    "plt.show()\n",
    "\n",
    "\n",
    "# Actual training times (in seconds)\n",
    "training_time_rf_bow = 294.40368247032166\n",
    "training_time_nb_bow = 15.055447816848755\n",
    "training_time_lr_bow = 20.062429189682007\n",
    "training_time_svm_bow = 256.9452130794525\n",
    "\n",
    "# Labels and data\n",
    "training_times = [training_time_rf_bow, training_time_nb_bow, training_time_svm_bow , training_time_lr_bow]\n",
    "\n",
    "# Plot\n",
    "plt.figure(figsize=(10, 6))\n",
    "bars = plt.bar(models, training_times, color='lightgreen')\n",
    "\n",
    "# Annotate with training times\n",
    "for bar in bars:\n",
    "    height = bar.get_height()\n",
    "    plt.text(bar.get_x() + bar.get_width()/2, height + 5, f'{height:.1f}s', ha='center', va='bottom', fontsize=10)\n",
    "\n",
    "plt.ylabel('Training Time (seconds)')\n",
    "plt.title('Training Time Comparison (BoW Features)')\n",
    "plt.ylim(0, max(training_times) + 50)\n",
    "plt.grid(axis='y', linestyle='--', alpha=0.7)\n",
    "plt.tight_layout()\n",
    "plt.show()\n",
    "\n",
    "\n"
   ]
  },
  {
   "cell_type": "markdown",
   "id": "a0bdb142-f620-4eb2-bf7a-359f1deea7fa",
   "metadata": {},
   "source": [
    "### Since the accuracy scores and other evaluation metrics of Random Forest, Logistic Regression, and SVM are almost the same, \n",
    "### Random Forest is chosen as the final model because it not only performs well but also effectively captures non-linear patterns in the data,\n",
    "### handles feature interactions, and is less sensitive to overfitting due to its ensemble nature.\n",
    "### For more detail about comparison of models, kindly read the detailed PDF Report."
   ]
  },
  {
   "cell_type": "code",
   "execution_count": null,
   "id": "53ea3e4a-e985-475e-9094-ba394ca44429",
   "metadata": {},
   "outputs": [],
   "source": []
  },
  {
   "cell_type": "markdown",
   "id": "8f400c4a-15df-49d8-b527-fbbe32dacd50",
   "metadata": {},
   "source": [
    "### Saving the Random Forest Model as Pickle file"
   ]
  },
  {
   "cell_type": "code",
   "execution_count": 420,
   "id": "71f76d7b-f587-47db-97ef-73e55a9255ea",
   "metadata": {},
   "outputs": [
    {
     "name": "stdout",
     "output_type": "stream",
     "text": [
      "Model saved as model.pkl\n",
      "CountVectorizer saved as cv.pkl\n",
      "LabelEncoder saved as encoder.pkl\n"
     ]
    }
   ],
   "source": [
    "# Model filename\n",
    "model_filename = \"model.pkl\"\n",
    "with open(model_filename, 'wb') as file:\n",
    "    pickle.dump(grid_bow.best_estimator_, file)\n",
    "\n",
    "# Save CountVectorizer\n",
    "cv_filename = \"cv.pkl\"\n",
    "with open(cv_filename, 'wb') as file:\n",
    "    pickle.dump(cv, file)\n",
    "\n",
    "# Save LabelEncoder\n",
    "encoder_filename = \"encoder.pkl\"\n",
    "with open(encoder_filename, 'wb') as file:\n",
    "    pickle.dump(encoder, file)\n",
    "\n",
    "print(f\"Model saved as {model_filename}\")\n",
    "print(f\"CountVectorizer saved as {cv_filename}\")\n",
    "print(f\"LabelEncoder saved as {encoder_filename}\")"
   ]
  },
  {
   "cell_type": "code",
   "execution_count": null,
   "id": "8238a57d-128a-4dfd-906d-464f680c20cb",
   "metadata": {},
   "outputs": [],
   "source": []
  }
 ],
 "metadata": {
  "kernelspec": {
   "display_name": "Python [conda env:base] *",
   "language": "python",
   "name": "conda-base-py"
  },
  "language_info": {
   "codemirror_mode": {
    "name": "ipython",
    "version": 3
   },
   "file_extension": ".py",
   "mimetype": "text/x-python",
   "name": "python",
   "nbconvert_exporter": "python",
   "pygments_lexer": "ipython3",
   "version": "3.12.7"
  }
 },
 "nbformat": 4,
 "nbformat_minor": 5
}
